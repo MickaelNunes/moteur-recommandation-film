{
 "cells": [
  {
   "cell_type": "markdown",
   "metadata": {},
   "source": [
    "# Recommendation - Model 🍿"
   ]
  },
  {
   "cell_type": "markdown",
   "metadata": {},
   "source": [
    "---"
   ]
  },
  {
   "cell_type": "markdown",
   "metadata": {},
   "source": [
    "<img src=\"https://visithrastnik.si/uploads/tic/public/generic_list_item/6-kulturna_prireditev_v_avli_kulturnega_centra_zagorje_ob_savi.jpg\" />"
   ]
  },
  {
   "cell_type": "markdown",
   "metadata": {},
   "source": [
    "---"
   ]
  },
  {
   "cell_type": "markdown",
   "metadata": {},
   "source": [
    "Importons dans un premier temps les résultats obtenues précedemment"
   ]
  },
  {
   "cell_type": "code",
   "execution_count": 3,
   "metadata": {},
   "outputs": [
    {
     "data": {
      "text/plain": [
       "<610x9724 sparse matrix of type '<class 'numpy.float64'>'\n",
       "\twith 100836 stored elements in Compressed Sparse Row format>"
      ]
     },
     "execution_count": 3,
     "metadata": {},
     "output_type": "execute_result"
    }
   ],
   "source": [
    "import pickle\n",
    "\n",
    "with open(\"ratings_matrix.pkl\", \"rb\") as file:\n",
    "    ratings_matrix = pickle.load(file)\n",
    "    \n",
    "ratings_matrix"
   ]
  },
  {
   "cell_type": "code",
   "execution_count": 4,
   "metadata": {},
   "outputs": [],
   "source": [
    "index_path = 'index.pkl'\n",
    "with open(index_path, 'rb') as f:\n",
    "    indexes = pickle.load(f)\n",
    "idx_to_mid, mid_to_idx, idx_to_uid, uid_to_idx = indexes"
   ]
  },
  {
   "cell_type": "code",
   "execution_count": 5,
   "metadata": {},
   "outputs": [
    {
     "data": {
      "text/plain": [
       "356"
      ]
     },
     "execution_count": 5,
     "metadata": {},
     "output_type": "execute_result"
    }
   ],
   "source": [
    "idx_to_mid[20]"
   ]
  },
  {
   "cell_type": "code",
   "execution_count": 6,
   "metadata": {},
   "outputs": [],
   "source": [
    "with open(\"idx_to_mid.pkl\", \"wb\") as file:\n",
    "    pickle.dump(idx_to_mid, file)\n",
    "    \n",
    "with open(\"mid_to_idx.pkl\", \"wb\") as file:\n",
    "    pickle.dump(mid_to_idx, file)\n",
    "    \n",
    "with open(\"uid_to_idx.pkl\", \"wb\") as file:\n",
    "    pickle.dump(uid_to_idx, file)\n",
    "    \n",
    "with open(\"idx_to_uid.pkl\", \"wb\") as file:\n",
    "    pickle.dump(idx_to_uid, file)"
   ]
  },
  {
   "cell_type": "markdown",
   "metadata": {},
   "source": [
    "Lançons donc notre outil lightfm qui va nous permettre de créer une matrice de similarité"
   ]
  },
  {
   "cell_type": "code",
   "execution_count": 7,
   "metadata": {},
   "outputs": [
    {
     "name": "stderr",
     "output_type": "stream",
     "text": [
      "/Users/mickaelnunes/bin/anaconda/lib/python3.6/site-packages/lightfm/_lightfm_fast.py:9: UserWarning: LightFM was compiled without OpenMP support. Only a single thread will be used.\n",
      "  warnings.warn('LightFM was compiled without OpenMP support. '\n"
     ]
    }
   ],
   "source": [
    "from lightfm.cross_validation import random_train_test_split\n",
    "import numpy as np\n",
    "\n",
    "train_matrix, test_matrix = random_train_test_split(ratings_matrix,\n",
    "                                                    test_percentage=0.2,\n",
    "                                                    random_state=np.random.RandomState(0))"
   ]
  },
  {
   "cell_type": "code",
   "execution_count": 8,
   "metadata": {
    "scrolled": true
   },
   "outputs": [
    {
     "name": "stdout",
     "output_type": "stream",
     "text": [
      "Epoch 0\n",
      "Epoch 1\n",
      "Epoch 2\n",
      "Epoch 3\n",
      "Epoch 4\n",
      "Epoch 5\n",
      "Epoch 6\n",
      "Epoch 7\n",
      "Epoch 8\n",
      "Epoch 9\n",
      "Epoch 10\n",
      "Epoch 11\n",
      "Epoch 12\n",
      "Epoch 13\n",
      "Epoch 14\n",
      "Epoch 15\n",
      "Epoch 16\n",
      "Epoch 17\n",
      "Epoch 18\n",
      "Epoch 19\n",
      "Epoch 20\n",
      "Epoch 21\n",
      "Epoch 22\n",
      "Epoch 23\n",
      "Epoch 24\n",
      "Epoch 25\n",
      "Epoch 26\n",
      "Epoch 27\n",
      "Epoch 28\n",
      "Epoch 29\n",
      "Epoch 30\n",
      "Epoch 31\n",
      "Epoch 32\n",
      "Epoch 33\n",
      "Epoch 34\n",
      "Epoch 35\n",
      "Epoch 36\n",
      "Epoch 37\n",
      "Epoch 38\n",
      "Epoch 39\n",
      "Epoch 40\n",
      "Epoch 41\n",
      "Epoch 42\n",
      "Epoch 43\n",
      "Epoch 44\n",
      "Epoch 45\n",
      "Epoch 46\n",
      "Epoch 47\n",
      "Epoch 48\n",
      "Epoch 49\n"
     ]
    },
    {
     "data": {
      "text/plain": [
       "<lightfm.lightfm.LightFM at 0x114d34b00>"
      ]
     },
     "execution_count": 8,
     "metadata": {},
     "output_type": "execute_result"
    }
   ],
   "source": [
    "from lightfm import LightFM\n",
    "\n",
    "model = LightFM(no_components=30, loss=\"warp\", random_state=0)\n",
    "\n",
    "model.fit(train_matrix, epochs=50, verbose=True)"
   ]
  },
  {
   "cell_type": "code",
   "execution_count": 9,
   "metadata": {},
   "outputs": [
    {
     "name": "stdout",
     "output_type": "stream",
     "text": [
      "Precision at k=5 is 0.2671052813529968\n"
     ]
    }
   ],
   "source": [
    "from lightfm.evaluation import precision_at_k\n",
    "\n",
    "k = 5\n",
    "pre_k = precision_at_k(model, test_matrix, train_matrix, k=k).mean()\n",
    "\n",
    "print(\"Precision at k={} is {}\".format(k, pre_k))"
   ]
  },
  {
   "cell_type": "markdown",
   "metadata": {},
   "source": [
    "Nous arrivons donc à notre matrice de similarité qui nous sera très utile lorsque nous souhaiterons à partir d'un film ou plusieurs nous proposer les 5 films qui lui ressemble le plus. Dans le cas où il y aurait plusieurs films, nous n'aurons qu'à sommer chaque valeur donnée par la matrice"
   ]
  },
  {
   "cell_type": "code",
   "execution_count": 10,
   "metadata": {},
   "outputs": [
    {
     "name": "stdout",
     "output_type": "stream",
     "text": [
      "(610, 30)\n"
     ]
    },
    {
     "data": {
      "text/plain": [
       "array([[ 0.8197754 ,  0.58469   ,  0.8000792 , ...,  0.1683342 ,\n",
       "         0.3600048 , -0.21243623],\n",
       "       [-0.6790457 , -0.12120218, -0.22247835, ...,  0.16173059,\n",
       "        -0.00376948,  0.7129165 ],\n",
       "       [-0.3109635 ,  0.00349523,  0.44889408, ...,  0.25184995,\n",
       "         0.8891051 , -0.25782192],\n",
       "       ...,\n",
       "       [ 1.4590213 ,  0.12048177,  0.23078242, ..., -0.2774047 ,\n",
       "        -1.1821449 ,  0.4094976 ],\n",
       "       [-0.7227708 ,  0.80425507, -0.17750198, ..., -0.45044312,\n",
       "         0.02396172, -0.43270677],\n",
       "       [ 0.562239  ,  1.4131409 , -1.4402713 , ...,  0.42333522,\n",
       "        -2.0645046 ,  1.479885  ]], dtype=float32)"
      ]
     },
     "execution_count": 10,
     "metadata": {},
     "output_type": "execute_result"
    }
   ],
   "source": [
    "print(model.user_embeddings.shape)\n",
    "model.user_embeddings"
   ]
  },
  {
   "cell_type": "code",
   "execution_count": 11,
   "metadata": {},
   "outputs": [],
   "source": [
    "import numpy as np\n",
    "similarity_scores = np.corrcoef(model.item_embeddings)"
   ]
  },
  {
   "cell_type": "markdown",
   "metadata": {},
   "source": [
    "Essayons notre modèle sur **Toy Story** dont le movie_id est 1. Voyons quel est le **top 5 recommendations**"
   ]
  },
  {
   "cell_type": "code",
   "execution_count": 25,
   "metadata": {},
   "outputs": [
    {
     "data": {
      "text/plain": [
       "0"
      ]
     },
     "execution_count": 25,
     "metadata": {},
     "output_type": "execute_result"
    }
   ],
   "source": [
    "np.argsort(similarity_scores[mid_to_idx[1]])[:5]\n",
    "\n",
    "mid_to_idx[1]"
   ]
  },
  {
   "cell_type": "code",
   "execution_count": 27,
   "metadata": {},
   "outputs": [
    {
     "data": {
      "text/plain": [
       "['Star Wars: Episode VI - Return of the Jedi (1983)',\n",
       " 'Star Wars: Episode IV - A New Hope (1977)',\n",
       " 'Pulp Fiction (1994)',\n",
       " 'Beetlejuice (1988)',\n",
       " 'Jurassic Park (1993)']"
      ]
     },
     "execution_count": 27,
     "metadata": {},
     "output_type": "execute_result"
    }
   ],
   "source": [
    "idx = mid_to_idx[1]\n",
    "movie = []\n",
    "\n",
    "for i in np.argsort(-similarity_scores[idx])[1:6]:\n",
    "    movie.append(movies[movies['movieId']==idx_to_mid[i]]['title'].values[0])\n",
    "\n",
    "movie"
   ]
  },
  {
   "cell_type": "markdown",
   "metadata": {},
   "source": [
    "Sauvegardons ça maintenant en pickles afin de pouvoir la réutiliser dans une application de type flask"
   ]
  },
  {
   "cell_type": "code",
   "execution_count": 28,
   "metadata": {},
   "outputs": [
    {
     "data": {
      "text/plain": [
       "['Star Wars: Episode VI - Return of the Jedi (1983)',\n",
       " 'Star Wars: Episode IV - A New Hope (1977)',\n",
       " 'Pulp Fiction (1994)',\n",
       " 'Beetlejuice (1988)',\n",
       " 'Jurassic Park (1993)']"
      ]
     },
     "execution_count": 28,
     "metadata": {},
     "output_type": "execute_result"
    }
   ],
   "source": [
    "pickle.dump(movie, open( \"movie.pkl\", \"wb\" ))\n",
    "movie"
   ]
  },
  {
   "cell_type": "code",
   "execution_count": 23,
   "metadata": {},
   "outputs": [],
   "source": [
    "with open(\"similarity_scores.pkl\", \"wb\") as file:\n",
    "    pickle.dump(similarity_scores, file)"
   ]
  },
  {
   "cell_type": "code",
   "execution_count": 31,
   "metadata": {},
   "outputs": [],
   "source": [
    "with open(\"movies.pkl\", \"wb\") as file:\n",
    "    pickle.dump(movies, file)"
   ]
  },
  {
   "cell_type": "markdown",
   "metadata": {},
   "source": [
    "La photo que vous pouvez lire dans le readme est juste une implémentation de ces calculs via une application de type flask (interface en html). Pour cela, vous aurez besoin des fonctions suivantes. Les codes sont également dans le dossier."
   ]
  },
  {
   "cell_type": "code",
   "execution_count": 19,
   "metadata": {},
   "outputs": [],
   "source": [
    "def get_sim_scores(mid):\n",
    "    idx = mid_to_idx[mid]\n",
    "    sims = similarity_scores[idx]\n",
    "    return sims"
   ]
  },
  {
   "cell_type": "code",
   "execution_count": 20,
   "metadata": {},
   "outputs": [],
   "source": [
    "def get_ranked_recos(sims):\n",
    "    movie = []\n",
    "    for i in np.argsort(-sims)[1:]:\n",
    "        mid = idx_to_mid[i]\n",
    "        score = sims[i]\n",
    "        name = movies[movies['movieId']==mid]['title'].values[0]\n",
    "        movie.append((mid, score, name))\n",
    "    return movie"
   ]
  }
 ],
 "metadata": {
  "kernelspec": {
   "display_name": "Python 3",
   "language": "python",
   "name": "python3"
  },
  "language_info": {
   "codemirror_mode": {
    "name": "ipython",
    "version": 3
   },
   "file_extension": ".py",
   "mimetype": "text/x-python",
   "name": "python",
   "nbconvert_exporter": "python",
   "pygments_lexer": "ipython3",
   "version": "3.6.5"
  }
 },
 "nbformat": 4,
 "nbformat_minor": 2
}
